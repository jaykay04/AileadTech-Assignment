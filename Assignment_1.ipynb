{
 "cells": [
  {
   "cell_type": "markdown",
   "metadata": {},
   "source": [
    "# Assignment_1"
   ]
  },
  {
   "cell_type": "markdown",
   "metadata": {},
   "source": [
    "1. Write a program which will find all such numbers which are divisible by 7 but are not a multiple of 5, between 1000 and 2200 (both included). The numbers obtained should be printed in a comma-separated sequence on a single line.\n",
    "2. Write a Python program to accept the user's first and last name and then getting them printed in the reverse order with a space between first name and last name.\n",
    "3. Write a program to take ten numbers from a user and display the minimum, mean, and maximum of the non-even numbers."
   ]
  },
  {
   "cell_type": "code",
   "execution_count": 2,
   "metadata": {},
   "outputs": [
    {
     "data": {
      "text/plain": [
       "[1001,\n",
       " 1008,\n",
       " 1022,\n",
       " 1029,\n",
       " 1036,\n",
       " 1043,\n",
       " 1057,\n",
       " 1064,\n",
       " 1071,\n",
       " 1078,\n",
       " 1092,\n",
       " 1099,\n",
       " 1106,\n",
       " 1113,\n",
       " 1127,\n",
       " 1134,\n",
       " 1141,\n",
       " 1148,\n",
       " 1162,\n",
       " 1169,\n",
       " 1176,\n",
       " 1183,\n",
       " 1197,\n",
       " 1204,\n",
       " 1211,\n",
       " 1218,\n",
       " 1232,\n",
       " 1239,\n",
       " 1246,\n",
       " 1253,\n",
       " 1267,\n",
       " 1274,\n",
       " 1281,\n",
       " 1288,\n",
       " 1302,\n",
       " 1309,\n",
       " 1316,\n",
       " 1323,\n",
       " 1337,\n",
       " 1344,\n",
       " 1351,\n",
       " 1358,\n",
       " 1372,\n",
       " 1379,\n",
       " 1386,\n",
       " 1393,\n",
       " 1407,\n",
       " 1414,\n",
       " 1421,\n",
       " 1428,\n",
       " 1442,\n",
       " 1449,\n",
       " 1456,\n",
       " 1463,\n",
       " 1477,\n",
       " 1484,\n",
       " 1491,\n",
       " 1498,\n",
       " 1512,\n",
       " 1519,\n",
       " 1526,\n",
       " 1533,\n",
       " 1547,\n",
       " 1554,\n",
       " 1561,\n",
       " 1568,\n",
       " 1582,\n",
       " 1589,\n",
       " 1596,\n",
       " 1603,\n",
       " 1617,\n",
       " 1624,\n",
       " 1631,\n",
       " 1638,\n",
       " 1652,\n",
       " 1659,\n",
       " 1666,\n",
       " 1673,\n",
       " 1687,\n",
       " 1694,\n",
       " 1701,\n",
       " 1708,\n",
       " 1722,\n",
       " 1729,\n",
       " 1736,\n",
       " 1743,\n",
       " 1757,\n",
       " 1764,\n",
       " 1771,\n",
       " 1778,\n",
       " 1792,\n",
       " 1799,\n",
       " 1806,\n",
       " 1813,\n",
       " 1827,\n",
       " 1834,\n",
       " 1841,\n",
       " 1848,\n",
       " 1862,\n",
       " 1869,\n",
       " 1876,\n",
       " 1883,\n",
       " 1897,\n",
       " 1904,\n",
       " 1911,\n",
       " 1918,\n",
       " 1932,\n",
       " 1939,\n",
       " 1946,\n",
       " 1953,\n",
       " 1967,\n",
       " 1974,\n",
       " 1981,\n",
       " 1988,\n",
       " 2002,\n",
       " 2009,\n",
       " 2016,\n",
       " 2023,\n",
       " 2037,\n",
       " 2044,\n",
       " 2051,\n",
       " 2058,\n",
       " 2072,\n",
       " 2079,\n",
       " 2086,\n",
       " 2093,\n",
       " 2107,\n",
       " 2114,\n",
       " 2121,\n",
       " 2128,\n",
       " 2142,\n",
       " 2149,\n",
       " 2156,\n",
       " 2163,\n",
       " 2177,\n",
       " 2184,\n",
       " 2191,\n",
       " 2198]"
      ]
     },
     "execution_count": 2,
     "metadata": {},
     "output_type": "execute_result"
    }
   ],
   "source": [
    "# 1.Write a program which will find all such numbers which are divisible \n",
    "# by 7 but are not a multiple of 5, between 1000 and 2200 (both included).\n",
    "# The numbers obtained should be printed in a comma-separated sequence on a single line.\n",
    "values1=list(range(1000,2201))\n",
    "mul_val=[i for i in values1 if i%7==0 and i%5!=0]\n",
    "mul_val\n"
   ]
  },
  {
   "cell_type": "code",
   "execution_count": 3,
   "metadata": {},
   "outputs": [
    {
     "name": "stdout",
     "output_type": "stream",
     "text": [
      "Enter full name: Gbegudu Joshua\n"
     ]
    }
   ],
   "source": [
    "# 2.Write a Python program to accept the user's first and last name and then getting them printed in the reverse order\n",
    "# with a space between first name and last name.\n",
    "\n",
    "#First Method\n",
    "\n",
    "x=input('Enter full name: ')"
   ]
  },
  {
   "cell_type": "code",
   "execution_count": 4,
   "metadata": {},
   "outputs": [
    {
     "name": "stdout",
     "output_type": "stream",
     "text": [
      "auhsoJ udugebG\n"
     ]
    }
   ],
   "source": [
    "print(x[::-1])"
   ]
  },
  {
   "cell_type": "code",
   "execution_count": 5,
   "metadata": {},
   "outputs": [
    {
     "name": "stdout",
     "output_type": "stream",
     "text": [
      "Gbegudu\n"
     ]
    }
   ],
   "source": [
    "#Second Method\n",
    "\n",
    "y=input()"
   ]
  },
  {
   "cell_type": "code",
   "execution_count": 6,
   "metadata": {},
   "outputs": [
    {
     "name": "stdout",
     "output_type": "stream",
     "text": [
      "Joshua\n"
     ]
    }
   ],
   "source": [
    "z=input()"
   ]
  },
  {
   "cell_type": "code",
   "execution_count": 7,
   "metadata": {},
   "outputs": [
    {
     "name": "stdout",
     "output_type": "stream",
     "text": [
      "auhsoJ udugebG\n"
     ]
    }
   ],
   "source": [
    "print(z[::-1]+' '+y[::-1])"
   ]
  },
  {
   "cell_type": "code",
   "execution_count": null,
   "metadata": {},
   "outputs": [],
   "source": []
  }
 ],
 "metadata": {
  "kernelspec": {
   "display_name": "Python 3",
   "language": "python",
   "name": "python3"
  },
  "language_info": {
   "codemirror_mode": {
    "name": "ipython",
    "version": 3
   },
   "file_extension": ".py",
   "mimetype": "text/x-python",
   "name": "python",
   "nbconvert_exporter": "python",
   "pygments_lexer": "ipython3",
   "version": "3.7.6"
  }
 },
 "nbformat": 4,
 "nbformat_minor": 4
}
